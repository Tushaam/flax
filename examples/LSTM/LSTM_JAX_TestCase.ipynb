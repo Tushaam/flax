{
  "nbformat": 4,
  "nbformat_minor": 0,
  "metadata": {
    "colab": {
      "provenance": [],
      "authorship_tag": "ABX9TyOtPmRwRg5HMEE3lJwssoTx",
      "include_colab_link": true
    },
    "kernelspec": {
      "name": "python3",
      "display_name": "Python 3"
    },
    "language_info": {
      "name": "python"
    }
  },
  "cells": [
    {
      "cell_type": "markdown",
      "metadata": {
        "id": "view-in-github",
        "colab_type": "text"
      },
      "source": [
        "<a href=\"https://colab.research.google.com/github/Tushaam/JAX-tutorials/blob/main/LSTM_JAX_TestCase.ipynb\" target=\"_parent\"><img src=\"https://colab.research.google.com/assets/colab-badge.svg\" alt=\"Open In Colab\"/></a>"
      ]
    },
    {
      "cell_type": "code",
      "execution_count": 1,
      "metadata": {
        "colab": {
          "base_uri": "https://localhost:8080/"
        },
        "id": "RO7KDQRTV60d",
        "outputId": "ce3a427a-b0c9-45a5-c9a2-ff2ed776c896"
      },
      "outputs": [
        {
          "output_type": "stream",
          "name": "stdout",
          "text": [
            "Cloning into 'flax'...\n",
            "remote: Enumerating objects: 32107, done.\u001b[K\n",
            "remote: Counting objects: 100% (72/72), done.\u001b[K\n",
            "remote: Compressing objects: 100% (56/56), done.\u001b[K\n",
            "remote: Total 32107 (delta 37), reused 22 (delta 15), pack-reused 32035 (from 3)\u001b[K\n",
            "Receiving objects: 100% (32107/32107), 23.57 MiB | 17.33 MiB/s, done.\n",
            "Resolving deltas: 100% (24088/24088), done.\n",
            "/content/flax/examples/LSTM\n"
          ]
        }
      ],
      "source": [
        "!pip install flax jax jaxlib --quiet\n",
        "!git clone https://github.com/Tushaam/flax.git\n",
        "%cd flax/examples/LSTM\n"
      ]
    },
    {
      "cell_type": "code",
      "source": [
        "import jax\n",
        "import jax.numpy as jnp\n",
        "from flax.core import init, unfreeze\n",
        "from flax.linen import Module\n",
        "from LSTM_JAX import LSTM_seq  # <-- import your actual class\n",
        "\n",
        "# Define dimensions\n",
        "batch_size = 2\n",
        "seq_len = 3\n",
        "input_size = 4\n",
        "hidden_size = 5\n",
        "\n",
        "# Create dummy input: shape (batch_size, seq_len, input_size)\n",
        "x = jnp.ones((batch_size, seq_len, input_size))\n",
        "\n",
        "# Initialize model\n",
        "model = LSTMSequence(input_size=input_size, hidden_size=hidden_size, seq_len=seq_len)\n",
        "\n",
        "# Initialize parameters with PRNG key\n",
        "rng = jax.random.PRNGKey(0)\n",
        "params = model.init(rng, x)\n",
        "\n",
        "# Run forward pass\n",
        "output = model.apply(params, x)\n",
        "\n",
        "print(\"Input shape:\", x.shape)\n",
        "print(\"Output shape:\", output.shape)  # Expect (batch_size, seq_len, hidden_size)\n",
        "print(\"Output values:\\n\", output)\n"
      ],
      "metadata": {
        "colab": {
          "base_uri": "https://localhost:8080/",
          "height": 385
        },
        "id": "DE_-AcKgWv51",
        "outputId": "75112a7c-e658-4808-db2a-e02b4a8f7795"
      },
      "execution_count": 2,
      "outputs": [
        {
          "output_type": "error",
          "ename": "ModuleNotFoundError",
          "evalue": "No module named 'LSTM_JAX'",
          "traceback": [
            "\u001b[0;31m---------------------------------------------------------------------------\u001b[0m",
            "\u001b[0;31mModuleNotFoundError\u001b[0m                       Traceback (most recent call last)",
            "\u001b[0;32m<ipython-input-2-4943c5583882>\u001b[0m in \u001b[0;36m<cell line: 0>\u001b[0;34m()\u001b[0m\n\u001b[1;32m      3\u001b[0m \u001b[0;32mfrom\u001b[0m \u001b[0mflax\u001b[0m\u001b[0;34m.\u001b[0m\u001b[0mcore\u001b[0m \u001b[0;32mimport\u001b[0m \u001b[0minit\u001b[0m\u001b[0;34m,\u001b[0m \u001b[0munfreeze\u001b[0m\u001b[0;34m\u001b[0m\u001b[0;34m\u001b[0m\u001b[0m\n\u001b[1;32m      4\u001b[0m \u001b[0;32mfrom\u001b[0m \u001b[0mflax\u001b[0m\u001b[0;34m.\u001b[0m\u001b[0mlinen\u001b[0m \u001b[0;32mimport\u001b[0m \u001b[0mModule\u001b[0m\u001b[0;34m\u001b[0m\u001b[0;34m\u001b[0m\u001b[0m\n\u001b[0;32m----> 5\u001b[0;31m \u001b[0;32mfrom\u001b[0m \u001b[0mLSTM_JAX\u001b[0m \u001b[0;32mimport\u001b[0m \u001b[0mLSTM_seq\u001b[0m  \u001b[0;31m# <-- import your actual class\u001b[0m\u001b[0;34m\u001b[0m\u001b[0;34m\u001b[0m\u001b[0m\n\u001b[0m\u001b[1;32m      6\u001b[0m \u001b[0;34m\u001b[0m\u001b[0m\n\u001b[1;32m      7\u001b[0m \u001b[0;31m# Define dimensions\u001b[0m\u001b[0;34m\u001b[0m\u001b[0;34m\u001b[0m\u001b[0m\n",
            "\u001b[0;31mModuleNotFoundError\u001b[0m: No module named 'LSTM_JAX'",
            "",
            "\u001b[0;31m---------------------------------------------------------------------------\u001b[0;32m\nNOTE: If your import is failing due to a missing package, you can\nmanually install dependencies using either !pip or !apt.\n\nTo view examples of installing some common dependencies, click the\n\"Open Examples\" button below.\n\u001b[0;31m---------------------------------------------------------------------------\u001b[0m\n"
          ],
          "errorDetails": {
            "actions": [
              {
                "action": "open_url",
                "actionText": "Open Examples",
                "url": "/notebooks/snippets/importing_libraries.ipynb"
              }
            ]
          }
        }
      ]
    },
    {
      "cell_type": "code",
      "source": [],
      "metadata": {
        "id": "i1Dk_EEMX9ed"
      },
      "execution_count": null,
      "outputs": []
    }
  ]
}